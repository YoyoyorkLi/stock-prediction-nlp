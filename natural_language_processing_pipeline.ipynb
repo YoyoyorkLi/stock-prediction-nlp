{
 "cells": [
  {
   "cell_type": "code",
   "execution_count": 2,
   "id": "a1f7ff04-a72e-4945-831b-7c4bb6683e0f",
   "metadata": {},
   "outputs": [
    {
     "name": "stderr",
     "output_type": "stream",
     "text": [
      "/Users/lirunhe/Desktop/Stock Prediction/venv/lib/python3.12/site-packages/tqdm/auto.py:21: TqdmWarning: IProgress not found. Please update jupyter and ipywidgets. See https://ipywidgets.readthedocs.io/en/stable/user_install.html\n",
      "  from .autonotebook import tqdm as notebook_tqdm\n",
      "2025-07-07 13:45:20.229422: I tensorflow/core/platform/cpu_feature_guard.cc:210] This TensorFlow binary is optimized to use available CPU instructions in performance-critical operations.\n",
      "To enable the following instructions: AVX2 FMA, in other operations, rebuild TensorFlow with the appropriate compiler flags.\n",
      "Device set to use cpu\n"
     ]
    }
   ],
   "source": [
    "# Hugging Face model \"mrm8488/distilroberta-finetuned-financial-news-sentiment-analysis\"\n",
    "from transformers import pipeline\n",
    "\n",
    "roberta_pipe = pipeline(\"text-classification\", model=\"mrm8488/distilroberta-finetuned-financial-news-sentiment-analysis\")"
   ]
  },
  {
   "cell_type": "code",
   "execution_count": 3,
   "id": "44fabef7-899a-4827-b0ae-dc5043596137",
   "metadata": {},
   "outputs": [
    {
     "data": {
      "text/plain": [
       "[{'label': 'positive', 'score': 0.9996346235275269}]"
      ]
     },
     "execution_count": 3,
     "metadata": {},
     "output_type": "execute_result"
    }
   ],
   "source": [
    "roberta_pipe(\"Nvidia stock today jumps on price target boost\") # Example financial news headline"
   ]
  }
 ],
 "metadata": {
  "kernelspec": {
   "display_name": "stock_prediction_env",
   "language": "python",
   "name": "stock_prediction_env"
  },
  "language_info": {
   "codemirror_mode": {
    "name": "ipython",
    "version": 3
   },
   "file_extension": ".py",
   "mimetype": "text/x-python",
   "name": "python",
   "nbconvert_exporter": "python",
   "pygments_lexer": "ipython3",
   "version": "3.12.7"
  }
 },
 "nbformat": 4,
 "nbformat_minor": 5
}
